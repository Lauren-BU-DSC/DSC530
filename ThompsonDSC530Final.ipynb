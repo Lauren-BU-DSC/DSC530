{
 "cells": [
  {
   "cell_type": "markdown",
   "metadata": {},
   "source": [
    "Lauren Thompson DSC530 Final"
   ]
  },
  {
   "cell_type": "code",
   "execution_count": 1,
   "metadata": {},
   "outputs": [],
   "source": [
    "import thinkstats2\n",
    "import thinkplot\n",
    "import first\n",
    "import pandas as pd\n",
    "import numpy as np\n",
    "import statistics as st\n",
    "import matplotlib.pyplot as plt\n",
    "%matplotlib inline\n"
   ]
  },
  {
   "cell_type": "code",
   "execution_count": 2,
   "metadata": {},
   "outputs": [],
   "source": [
    "df = pd.read_excel (r'/Users/laurenthompson/Documents/Bellevue University/DSC530/FINAL/housing.xlsx')"
   ]
  },
  {
   "cell_type": "code",
   "execution_count": 3,
   "metadata": {},
   "outputs": [
    {
     "data": {
      "text/html": [
       "<div>\n",
       "<style scoped>\n",
       "    .dataframe tbody tr th:only-of-type {\n",
       "        vertical-align: middle;\n",
       "    }\n",
       "\n",
       "    .dataframe tbody tr th {\n",
       "        vertical-align: top;\n",
       "    }\n",
       "\n",
       "    .dataframe thead th {\n",
       "        text-align: right;\n",
       "    }\n",
       "</style>\n",
       "<table border=\"1\" class=\"dataframe\">\n",
       "  <thead>\n",
       "    <tr style=\"text-align: right;\">\n",
       "      <th></th>\n",
       "      <th>Sale Date</th>\n",
       "      <th>Sale Price</th>\n",
       "      <th>sale_reason</th>\n",
       "      <th>sale_instrument</th>\n",
       "      <th>sale_warning</th>\n",
       "      <th>sitetype</th>\n",
       "      <th>addr_full</th>\n",
       "      <th>zip5</th>\n",
       "      <th>ctyname</th>\n",
       "      <th>postalctyn</th>\n",
       "      <th>...</th>\n",
       "      <th>bedrooms</th>\n",
       "      <th>bath_full_count</th>\n",
       "      <th>bath_half_count</th>\n",
       "      <th>bath_3qtr_count</th>\n",
       "      <th>year_built</th>\n",
       "      <th>year_renovated</th>\n",
       "      <th>current_zoning</th>\n",
       "      <th>sq_ft_lot</th>\n",
       "      <th>prop_type</th>\n",
       "      <th>present_use</th>\n",
       "    </tr>\n",
       "  </thead>\n",
       "  <tbody>\n",
       "    <tr>\n",
       "      <th>0</th>\n",
       "      <td>2006-01-03</td>\n",
       "      <td>698000</td>\n",
       "      <td>1</td>\n",
       "      <td>3</td>\n",
       "      <td>NaN</td>\n",
       "      <td>R1</td>\n",
       "      <td>17021 NE 113TH CT</td>\n",
       "      <td>98052</td>\n",
       "      <td>REDMOND</td>\n",
       "      <td>REDMOND</td>\n",
       "      <td>...</td>\n",
       "      <td>4</td>\n",
       "      <td>2</td>\n",
       "      <td>1</td>\n",
       "      <td>0</td>\n",
       "      <td>2003</td>\n",
       "      <td>0</td>\n",
       "      <td>R4</td>\n",
       "      <td>6635</td>\n",
       "      <td>R</td>\n",
       "      <td>2</td>\n",
       "    </tr>\n",
       "    <tr>\n",
       "      <th>1</th>\n",
       "      <td>2006-01-03</td>\n",
       "      <td>649990</td>\n",
       "      <td>1</td>\n",
       "      <td>3</td>\n",
       "      <td>NaN</td>\n",
       "      <td>R1</td>\n",
       "      <td>11927 178TH PL NE</td>\n",
       "      <td>98052</td>\n",
       "      <td>REDMOND</td>\n",
       "      <td>REDMOND</td>\n",
       "      <td>...</td>\n",
       "      <td>4</td>\n",
       "      <td>2</td>\n",
       "      <td>0</td>\n",
       "      <td>1</td>\n",
       "      <td>2006</td>\n",
       "      <td>0</td>\n",
       "      <td>R4</td>\n",
       "      <td>5570</td>\n",
       "      <td>R</td>\n",
       "      <td>2</td>\n",
       "    </tr>\n",
       "    <tr>\n",
       "      <th>2</th>\n",
       "      <td>2006-01-03</td>\n",
       "      <td>572500</td>\n",
       "      <td>1</td>\n",
       "      <td>3</td>\n",
       "      <td>NaN</td>\n",
       "      <td>R1</td>\n",
       "      <td>13315 174TH AVE NE</td>\n",
       "      <td>98052</td>\n",
       "      <td>NaN</td>\n",
       "      <td>REDMOND</td>\n",
       "      <td>...</td>\n",
       "      <td>4</td>\n",
       "      <td>1</td>\n",
       "      <td>1</td>\n",
       "      <td>1</td>\n",
       "      <td>1987</td>\n",
       "      <td>0</td>\n",
       "      <td>R6</td>\n",
       "      <td>8444</td>\n",
       "      <td>R</td>\n",
       "      <td>2</td>\n",
       "    </tr>\n",
       "    <tr>\n",
       "      <th>3</th>\n",
       "      <td>2006-01-03</td>\n",
       "      <td>420000</td>\n",
       "      <td>1</td>\n",
       "      <td>3</td>\n",
       "      <td>NaN</td>\n",
       "      <td>R1</td>\n",
       "      <td>3303 178TH AVE NE</td>\n",
       "      <td>98052</td>\n",
       "      <td>REDMOND</td>\n",
       "      <td>REDMOND</td>\n",
       "      <td>...</td>\n",
       "      <td>3</td>\n",
       "      <td>1</td>\n",
       "      <td>0</td>\n",
       "      <td>1</td>\n",
       "      <td>1968</td>\n",
       "      <td>0</td>\n",
       "      <td>R4</td>\n",
       "      <td>9600</td>\n",
       "      <td>R</td>\n",
       "      <td>2</td>\n",
       "    </tr>\n",
       "    <tr>\n",
       "      <th>4</th>\n",
       "      <td>2006-01-03</td>\n",
       "      <td>369900</td>\n",
       "      <td>1</td>\n",
       "      <td>3</td>\n",
       "      <td>15</td>\n",
       "      <td>R1</td>\n",
       "      <td>16126 NE 108TH CT</td>\n",
       "      <td>98052</td>\n",
       "      <td>REDMOND</td>\n",
       "      <td>REDMOND</td>\n",
       "      <td>...</td>\n",
       "      <td>3</td>\n",
       "      <td>1</td>\n",
       "      <td>0</td>\n",
       "      <td>1</td>\n",
       "      <td>1980</td>\n",
       "      <td>0</td>\n",
       "      <td>R6</td>\n",
       "      <td>7526</td>\n",
       "      <td>R</td>\n",
       "      <td>2</td>\n",
       "    </tr>\n",
       "  </tbody>\n",
       "</table>\n",
       "<p>5 rows × 24 columns</p>\n",
       "</div>"
      ],
      "text/plain": [
       "   Sale Date  Sale Price  sale_reason  sale_instrument sale_warning sitetype  \\\n",
       "0 2006-01-03      698000            1                3          NaN       R1   \n",
       "1 2006-01-03      649990            1                3          NaN       R1   \n",
       "2 2006-01-03      572500            1                3          NaN       R1   \n",
       "3 2006-01-03      420000            1                3          NaN       R1   \n",
       "4 2006-01-03      369900            1                3           15       R1   \n",
       "\n",
       "            addr_full   zip5  ctyname postalctyn  ...  bedrooms  \\\n",
       "0   17021 NE 113TH CT  98052  REDMOND    REDMOND  ...         4   \n",
       "1   11927 178TH PL NE  98052  REDMOND    REDMOND  ...         4   \n",
       "2  13315 174TH AVE NE  98052      NaN    REDMOND  ...         4   \n",
       "3   3303 178TH AVE NE  98052  REDMOND    REDMOND  ...         3   \n",
       "4   16126 NE 108TH CT  98052  REDMOND    REDMOND  ...         3   \n",
       "\n",
       "   bath_full_count  bath_half_count  bath_3qtr_count  year_built  \\\n",
       "0                2                1                0        2003   \n",
       "1                2                0                1        2006   \n",
       "2                1                1                1        1987   \n",
       "3                1                0                1        1968   \n",
       "4                1                0                1        1980   \n",
       "\n",
       "   year_renovated  current_zoning  sq_ft_lot  prop_type  present_use  \n",
       "0               0              R4       6635          R            2  \n",
       "1               0              R4       5570          R            2  \n",
       "2               0              R6       8444          R            2  \n",
       "3               0              R4       9600          R            2  \n",
       "4               0              R6       7526          R            2  \n",
       "\n",
       "[5 rows x 24 columns]"
      ]
     },
     "execution_count": 3,
     "metadata": {},
     "output_type": "execute_result"
    }
   ],
   "source": [
    "df.head()"
   ]
  },
  {
   "cell_type": "code",
   "execution_count": 4,
   "metadata": {},
   "outputs": [],
   "source": [
    "df = df.drop(columns=['sale_reason', 'sale_instrument', 'sale_warning', 'sitetype', 'ctyname', 'lon', 'lat', 'building_grade', 'prop_type', 'present_use'])"
   ]
  },
  {
   "cell_type": "code",
   "execution_count": 5,
   "metadata": {},
   "outputs": [
    {
     "data": {
      "text/html": [
       "<div>\n",
       "<style scoped>\n",
       "    .dataframe tbody tr th:only-of-type {\n",
       "        vertical-align: middle;\n",
       "    }\n",
       "\n",
       "    .dataframe tbody tr th {\n",
       "        vertical-align: top;\n",
       "    }\n",
       "\n",
       "    .dataframe thead th {\n",
       "        text-align: right;\n",
       "    }\n",
       "</style>\n",
       "<table border=\"1\" class=\"dataframe\">\n",
       "  <thead>\n",
       "    <tr style=\"text-align: right;\">\n",
       "      <th></th>\n",
       "      <th>Sale Date</th>\n",
       "      <th>Sale Price</th>\n",
       "      <th>addr_full</th>\n",
       "      <th>zip5</th>\n",
       "      <th>postalctyn</th>\n",
       "      <th>square_feet_total_living</th>\n",
       "      <th>bedrooms</th>\n",
       "      <th>bath_full_count</th>\n",
       "      <th>bath_half_count</th>\n",
       "      <th>bath_3qtr_count</th>\n",
       "      <th>year_built</th>\n",
       "      <th>year_renovated</th>\n",
       "      <th>current_zoning</th>\n",
       "      <th>sq_ft_lot</th>\n",
       "    </tr>\n",
       "  </thead>\n",
       "  <tbody>\n",
       "    <tr>\n",
       "      <th>0</th>\n",
       "      <td>2006-01-03</td>\n",
       "      <td>698000</td>\n",
       "      <td>17021 NE 113TH CT</td>\n",
       "      <td>98052</td>\n",
       "      <td>REDMOND</td>\n",
       "      <td>2810</td>\n",
       "      <td>4</td>\n",
       "      <td>2</td>\n",
       "      <td>1</td>\n",
       "      <td>0</td>\n",
       "      <td>2003</td>\n",
       "      <td>0</td>\n",
       "      <td>R4</td>\n",
       "      <td>6635</td>\n",
       "    </tr>\n",
       "    <tr>\n",
       "      <th>1</th>\n",
       "      <td>2006-01-03</td>\n",
       "      <td>649990</td>\n",
       "      <td>11927 178TH PL NE</td>\n",
       "      <td>98052</td>\n",
       "      <td>REDMOND</td>\n",
       "      <td>2880</td>\n",
       "      <td>4</td>\n",
       "      <td>2</td>\n",
       "      <td>0</td>\n",
       "      <td>1</td>\n",
       "      <td>2006</td>\n",
       "      <td>0</td>\n",
       "      <td>R4</td>\n",
       "      <td>5570</td>\n",
       "    </tr>\n",
       "    <tr>\n",
       "      <th>2</th>\n",
       "      <td>2006-01-03</td>\n",
       "      <td>572500</td>\n",
       "      <td>13315 174TH AVE NE</td>\n",
       "      <td>98052</td>\n",
       "      <td>REDMOND</td>\n",
       "      <td>2770</td>\n",
       "      <td>4</td>\n",
       "      <td>1</td>\n",
       "      <td>1</td>\n",
       "      <td>1</td>\n",
       "      <td>1987</td>\n",
       "      <td>0</td>\n",
       "      <td>R6</td>\n",
       "      <td>8444</td>\n",
       "    </tr>\n",
       "    <tr>\n",
       "      <th>3</th>\n",
       "      <td>2006-01-03</td>\n",
       "      <td>420000</td>\n",
       "      <td>3303 178TH AVE NE</td>\n",
       "      <td>98052</td>\n",
       "      <td>REDMOND</td>\n",
       "      <td>1620</td>\n",
       "      <td>3</td>\n",
       "      <td>1</td>\n",
       "      <td>0</td>\n",
       "      <td>1</td>\n",
       "      <td>1968</td>\n",
       "      <td>0</td>\n",
       "      <td>R4</td>\n",
       "      <td>9600</td>\n",
       "    </tr>\n",
       "    <tr>\n",
       "      <th>4</th>\n",
       "      <td>2006-01-03</td>\n",
       "      <td>369900</td>\n",
       "      <td>16126 NE 108TH CT</td>\n",
       "      <td>98052</td>\n",
       "      <td>REDMOND</td>\n",
       "      <td>1440</td>\n",
       "      <td>3</td>\n",
       "      <td>1</td>\n",
       "      <td>0</td>\n",
       "      <td>1</td>\n",
       "      <td>1980</td>\n",
       "      <td>0</td>\n",
       "      <td>R6</td>\n",
       "      <td>7526</td>\n",
       "    </tr>\n",
       "    <tr>\n",
       "      <th>...</th>\n",
       "      <td>...</td>\n",
       "      <td>...</td>\n",
       "      <td>...</td>\n",
       "      <td>...</td>\n",
       "      <td>...</td>\n",
       "      <td>...</td>\n",
       "      <td>...</td>\n",
       "      <td>...</td>\n",
       "      <td>...</td>\n",
       "      <td>...</td>\n",
       "      <td>...</td>\n",
       "      <td>...</td>\n",
       "      <td>...</td>\n",
       "      <td>...</td>\n",
       "    </tr>\n",
       "    <tr>\n",
       "      <th>12860</th>\n",
       "      <td>2016-12-15</td>\n",
       "      <td>798930</td>\n",
       "      <td>22506 NE 102ND PL</td>\n",
       "      <td>98053</td>\n",
       "      <td>REDMOND</td>\n",
       "      <td>2920</td>\n",
       "      <td>3</td>\n",
       "      <td>2</td>\n",
       "      <td>1</td>\n",
       "      <td>0</td>\n",
       "      <td>2001</td>\n",
       "      <td>0</td>\n",
       "      <td>URPSO</td>\n",
       "      <td>5487</td>\n",
       "    </tr>\n",
       "    <tr>\n",
       "      <th>12861</th>\n",
       "      <td>2016-12-15</td>\n",
       "      <td>750000</td>\n",
       "      <td>13315 175TH AVE NE</td>\n",
       "      <td>98052</td>\n",
       "      <td>REDMOND</td>\n",
       "      <td>2320</td>\n",
       "      <td>4</td>\n",
       "      <td>1</td>\n",
       "      <td>1</td>\n",
       "      <td>1</td>\n",
       "      <td>1980</td>\n",
       "      <td>0</td>\n",
       "      <td>R6</td>\n",
       "      <td>35048</td>\n",
       "    </tr>\n",
       "    <tr>\n",
       "      <th>12862</th>\n",
       "      <td>2016-12-15</td>\n",
       "      <td>629000</td>\n",
       "      <td>17716 NE 29TH ST</td>\n",
       "      <td>98052</td>\n",
       "      <td>REDMOND</td>\n",
       "      <td>2000</td>\n",
       "      <td>4</td>\n",
       "      <td>1</td>\n",
       "      <td>0</td>\n",
       "      <td>1</td>\n",
       "      <td>1967</td>\n",
       "      <td>0</td>\n",
       "      <td>R4</td>\n",
       "      <td>9600</td>\n",
       "    </tr>\n",
       "    <tr>\n",
       "      <th>12863</th>\n",
       "      <td>2016-12-16</td>\n",
       "      <td>835000</td>\n",
       "      <td>9917 182ND CT NE</td>\n",
       "      <td>98052</td>\n",
       "      <td>REDMOND</td>\n",
       "      <td>2460</td>\n",
       "      <td>4</td>\n",
       "      <td>2</td>\n",
       "      <td>1</td>\n",
       "      <td>0</td>\n",
       "      <td>1990</td>\n",
       "      <td>0</td>\n",
       "      <td>R4</td>\n",
       "      <td>7615</td>\n",
       "    </tr>\n",
       "    <tr>\n",
       "      <th>12864</th>\n",
       "      <td>2016-12-16</td>\n",
       "      <td>455500</td>\n",
       "      <td>8826 166TH AVE NE</td>\n",
       "      <td>98052</td>\n",
       "      <td>REDMOND</td>\n",
       "      <td>1150</td>\n",
       "      <td>3</td>\n",
       "      <td>1</td>\n",
       "      <td>0</td>\n",
       "      <td>0</td>\n",
       "      <td>1961</td>\n",
       "      <td>0</td>\n",
       "      <td>R5</td>\n",
       "      <td>8640</td>\n",
       "    </tr>\n",
       "  </tbody>\n",
       "</table>\n",
       "<p>12865 rows × 14 columns</p>\n",
       "</div>"
      ],
      "text/plain": [
       "       Sale Date  Sale Price           addr_full   zip5 postalctyn  \\\n",
       "0     2006-01-03      698000   17021 NE 113TH CT  98052    REDMOND   \n",
       "1     2006-01-03      649990   11927 178TH PL NE  98052    REDMOND   \n",
       "2     2006-01-03      572500  13315 174TH AVE NE  98052    REDMOND   \n",
       "3     2006-01-03      420000   3303 178TH AVE NE  98052    REDMOND   \n",
       "4     2006-01-03      369900   16126 NE 108TH CT  98052    REDMOND   \n",
       "...          ...         ...                 ...    ...        ...   \n",
       "12860 2016-12-15      798930   22506 NE 102ND PL  98053    REDMOND   \n",
       "12861 2016-12-15      750000  13315 175TH AVE NE  98052    REDMOND   \n",
       "12862 2016-12-15      629000    17716 NE 29TH ST  98052    REDMOND   \n",
       "12863 2016-12-16      835000    9917 182ND CT NE  98052    REDMOND   \n",
       "12864 2016-12-16      455500   8826 166TH AVE NE  98052    REDMOND   \n",
       "\n",
       "       square_feet_total_living  bedrooms  bath_full_count  bath_half_count  \\\n",
       "0                          2810         4                2                1   \n",
       "1                          2880         4                2                0   \n",
       "2                          2770         4                1                1   \n",
       "3                          1620         3                1                0   \n",
       "4                          1440         3                1                0   \n",
       "...                         ...       ...              ...              ...   \n",
       "12860                      2920         3                2                1   \n",
       "12861                      2320         4                1                1   \n",
       "12862                      2000         4                1                0   \n",
       "12863                      2460         4                2                1   \n",
       "12864                      1150         3                1                0   \n",
       "\n",
       "       bath_3qtr_count  year_built  year_renovated current_zoning  sq_ft_lot  \n",
       "0                    0        2003               0             R4       6635  \n",
       "1                    1        2006               0             R4       5570  \n",
       "2                    1        1987               0             R6       8444  \n",
       "3                    1        1968               0             R4       9600  \n",
       "4                    1        1980               0             R6       7526  \n",
       "...                ...         ...             ...            ...        ...  \n",
       "12860                0        2001               0          URPSO       5487  \n",
       "12861                1        1980               0             R6      35048  \n",
       "12862                1        1967               0             R4       9600  \n",
       "12863                0        1990               0             R4       7615  \n",
       "12864                0        1961               0             R5       8640  \n",
       "\n",
       "[12865 rows x 14 columns]"
      ]
     },
     "execution_count": 5,
     "metadata": {},
     "output_type": "execute_result"
    }
   ],
   "source": [
    "df"
   ]
  },
  {
   "cell_type": "code",
   "execution_count": 6,
   "metadata": {},
   "outputs": [
    {
     "data": {
      "text/html": [
       "<div>\n",
       "<style scoped>\n",
       "    .dataframe tbody tr th:only-of-type {\n",
       "        vertical-align: middle;\n",
       "    }\n",
       "\n",
       "    .dataframe tbody tr th {\n",
       "        vertical-align: top;\n",
       "    }\n",
       "\n",
       "    .dataframe thead th {\n",
       "        text-align: right;\n",
       "    }\n",
       "</style>\n",
       "<table border=\"1\" class=\"dataframe\">\n",
       "  <thead>\n",
       "    <tr style=\"text-align: right;\">\n",
       "      <th></th>\n",
       "      <th>sale_date</th>\n",
       "      <th>sale_price</th>\n",
       "      <th>addr_full</th>\n",
       "      <th>zip5</th>\n",
       "      <th>city_name</th>\n",
       "      <th>square_feet_total_living</th>\n",
       "      <th>bedrooms</th>\n",
       "      <th>bath_full_count</th>\n",
       "      <th>bath_half_count</th>\n",
       "      <th>bath_3qtr_count</th>\n",
       "      <th>year_built</th>\n",
       "      <th>year_renovated</th>\n",
       "      <th>current_zoning</th>\n",
       "      <th>sq_ft_lot</th>\n",
       "    </tr>\n",
       "  </thead>\n",
       "  <tbody>\n",
       "    <tr>\n",
       "      <th>0</th>\n",
       "      <td>2006-01-03</td>\n",
       "      <td>698000</td>\n",
       "      <td>17021 NE 113TH CT</td>\n",
       "      <td>98052</td>\n",
       "      <td>REDMOND</td>\n",
       "      <td>2810</td>\n",
       "      <td>4</td>\n",
       "      <td>2</td>\n",
       "      <td>1</td>\n",
       "      <td>0</td>\n",
       "      <td>2003</td>\n",
       "      <td>0</td>\n",
       "      <td>R4</td>\n",
       "      <td>6635</td>\n",
       "    </tr>\n",
       "    <tr>\n",
       "      <th>1</th>\n",
       "      <td>2006-01-03</td>\n",
       "      <td>649990</td>\n",
       "      <td>11927 178TH PL NE</td>\n",
       "      <td>98052</td>\n",
       "      <td>REDMOND</td>\n",
       "      <td>2880</td>\n",
       "      <td>4</td>\n",
       "      <td>2</td>\n",
       "      <td>0</td>\n",
       "      <td>1</td>\n",
       "      <td>2006</td>\n",
       "      <td>0</td>\n",
       "      <td>R4</td>\n",
       "      <td>5570</td>\n",
       "    </tr>\n",
       "    <tr>\n",
       "      <th>2</th>\n",
       "      <td>2006-01-03</td>\n",
       "      <td>572500</td>\n",
       "      <td>13315 174TH AVE NE</td>\n",
       "      <td>98052</td>\n",
       "      <td>REDMOND</td>\n",
       "      <td>2770</td>\n",
       "      <td>4</td>\n",
       "      <td>1</td>\n",
       "      <td>1</td>\n",
       "      <td>1</td>\n",
       "      <td>1987</td>\n",
       "      <td>0</td>\n",
       "      <td>R6</td>\n",
       "      <td>8444</td>\n",
       "    </tr>\n",
       "    <tr>\n",
       "      <th>3</th>\n",
       "      <td>2006-01-03</td>\n",
       "      <td>420000</td>\n",
       "      <td>3303 178TH AVE NE</td>\n",
       "      <td>98052</td>\n",
       "      <td>REDMOND</td>\n",
       "      <td>1620</td>\n",
       "      <td>3</td>\n",
       "      <td>1</td>\n",
       "      <td>0</td>\n",
       "      <td>1</td>\n",
       "      <td>1968</td>\n",
       "      <td>0</td>\n",
       "      <td>R4</td>\n",
       "      <td>9600</td>\n",
       "    </tr>\n",
       "    <tr>\n",
       "      <th>4</th>\n",
       "      <td>2006-01-03</td>\n",
       "      <td>369900</td>\n",
       "      <td>16126 NE 108TH CT</td>\n",
       "      <td>98052</td>\n",
       "      <td>REDMOND</td>\n",
       "      <td>1440</td>\n",
       "      <td>3</td>\n",
       "      <td>1</td>\n",
       "      <td>0</td>\n",
       "      <td>1</td>\n",
       "      <td>1980</td>\n",
       "      <td>0</td>\n",
       "      <td>R6</td>\n",
       "      <td>7526</td>\n",
       "    </tr>\n",
       "    <tr>\n",
       "      <th>...</th>\n",
       "      <td>...</td>\n",
       "      <td>...</td>\n",
       "      <td>...</td>\n",
       "      <td>...</td>\n",
       "      <td>...</td>\n",
       "      <td>...</td>\n",
       "      <td>...</td>\n",
       "      <td>...</td>\n",
       "      <td>...</td>\n",
       "      <td>...</td>\n",
       "      <td>...</td>\n",
       "      <td>...</td>\n",
       "      <td>...</td>\n",
       "      <td>...</td>\n",
       "    </tr>\n",
       "    <tr>\n",
       "      <th>12860</th>\n",
       "      <td>2016-12-15</td>\n",
       "      <td>798930</td>\n",
       "      <td>22506 NE 102ND PL</td>\n",
       "      <td>98053</td>\n",
       "      <td>REDMOND</td>\n",
       "      <td>2920</td>\n",
       "      <td>3</td>\n",
       "      <td>2</td>\n",
       "      <td>1</td>\n",
       "      <td>0</td>\n",
       "      <td>2001</td>\n",
       "      <td>0</td>\n",
       "      <td>URPSO</td>\n",
       "      <td>5487</td>\n",
       "    </tr>\n",
       "    <tr>\n",
       "      <th>12861</th>\n",
       "      <td>2016-12-15</td>\n",
       "      <td>750000</td>\n",
       "      <td>13315 175TH AVE NE</td>\n",
       "      <td>98052</td>\n",
       "      <td>REDMOND</td>\n",
       "      <td>2320</td>\n",
       "      <td>4</td>\n",
       "      <td>1</td>\n",
       "      <td>1</td>\n",
       "      <td>1</td>\n",
       "      <td>1980</td>\n",
       "      <td>0</td>\n",
       "      <td>R6</td>\n",
       "      <td>35048</td>\n",
       "    </tr>\n",
       "    <tr>\n",
       "      <th>12862</th>\n",
       "      <td>2016-12-15</td>\n",
       "      <td>629000</td>\n",
       "      <td>17716 NE 29TH ST</td>\n",
       "      <td>98052</td>\n",
       "      <td>REDMOND</td>\n",
       "      <td>2000</td>\n",
       "      <td>4</td>\n",
       "      <td>1</td>\n",
       "      <td>0</td>\n",
       "      <td>1</td>\n",
       "      <td>1967</td>\n",
       "      <td>0</td>\n",
       "      <td>R4</td>\n",
       "      <td>9600</td>\n",
       "    </tr>\n",
       "    <tr>\n",
       "      <th>12863</th>\n",
       "      <td>2016-12-16</td>\n",
       "      <td>835000</td>\n",
       "      <td>9917 182ND CT NE</td>\n",
       "      <td>98052</td>\n",
       "      <td>REDMOND</td>\n",
       "      <td>2460</td>\n",
       "      <td>4</td>\n",
       "      <td>2</td>\n",
       "      <td>1</td>\n",
       "      <td>0</td>\n",
       "      <td>1990</td>\n",
       "      <td>0</td>\n",
       "      <td>R4</td>\n",
       "      <td>7615</td>\n",
       "    </tr>\n",
       "    <tr>\n",
       "      <th>12864</th>\n",
       "      <td>2016-12-16</td>\n",
       "      <td>455500</td>\n",
       "      <td>8826 166TH AVE NE</td>\n",
       "      <td>98052</td>\n",
       "      <td>REDMOND</td>\n",
       "      <td>1150</td>\n",
       "      <td>3</td>\n",
       "      <td>1</td>\n",
       "      <td>0</td>\n",
       "      <td>0</td>\n",
       "      <td>1961</td>\n",
       "      <td>0</td>\n",
       "      <td>R5</td>\n",
       "      <td>8640</td>\n",
       "    </tr>\n",
       "  </tbody>\n",
       "</table>\n",
       "<p>12865 rows × 14 columns</p>\n",
       "</div>"
      ],
      "text/plain": [
       "       sale_date  sale_price           addr_full   zip5 city_name  \\\n",
       "0     2006-01-03      698000   17021 NE 113TH CT  98052   REDMOND   \n",
       "1     2006-01-03      649990   11927 178TH PL NE  98052   REDMOND   \n",
       "2     2006-01-03      572500  13315 174TH AVE NE  98052   REDMOND   \n",
       "3     2006-01-03      420000   3303 178TH AVE NE  98052   REDMOND   \n",
       "4     2006-01-03      369900   16126 NE 108TH CT  98052   REDMOND   \n",
       "...          ...         ...                 ...    ...       ...   \n",
       "12860 2016-12-15      798930   22506 NE 102ND PL  98053   REDMOND   \n",
       "12861 2016-12-15      750000  13315 175TH AVE NE  98052   REDMOND   \n",
       "12862 2016-12-15      629000    17716 NE 29TH ST  98052   REDMOND   \n",
       "12863 2016-12-16      835000    9917 182ND CT NE  98052   REDMOND   \n",
       "12864 2016-12-16      455500   8826 166TH AVE NE  98052   REDMOND   \n",
       "\n",
       "       square_feet_total_living  bedrooms  bath_full_count  bath_half_count  \\\n",
       "0                          2810         4                2                1   \n",
       "1                          2880         4                2                0   \n",
       "2                          2770         4                1                1   \n",
       "3                          1620         3                1                0   \n",
       "4                          1440         3                1                0   \n",
       "...                         ...       ...              ...              ...   \n",
       "12860                      2920         3                2                1   \n",
       "12861                      2320         4                1                1   \n",
       "12862                      2000         4                1                0   \n",
       "12863                      2460         4                2                1   \n",
       "12864                      1150         3                1                0   \n",
       "\n",
       "       bath_3qtr_count  year_built  year_renovated current_zoning  sq_ft_lot  \n",
       "0                    0        2003               0             R4       6635  \n",
       "1                    1        2006               0             R4       5570  \n",
       "2                    1        1987               0             R6       8444  \n",
       "3                    1        1968               0             R4       9600  \n",
       "4                    1        1980               0             R6       7526  \n",
       "...                ...         ...             ...            ...        ...  \n",
       "12860                0        2001               0          URPSO       5487  \n",
       "12861                1        1980               0             R6      35048  \n",
       "12862                1        1967               0             R4       9600  \n",
       "12863                0        1990               0             R4       7615  \n",
       "12864                0        1961               0             R5       8640  \n",
       "\n",
       "[12865 rows x 14 columns]"
      ]
     },
     "execution_count": 6,
     "metadata": {},
     "output_type": "execute_result"
    }
   ],
   "source": [
    "df = df.dropna()\n",
    "df = df.rename(columns={'Sale Date': 'sale_date', 'Sale Price': 'sale_price', 'postalctyn': 'city_name'})\n",
    "df"
   ]
  },
  {
   "cell_type": "code",
   "execution_count": 7,
   "metadata": {},
   "outputs": [
    {
     "data": {
      "text/plain": [
       "Text(0, 0.5, 'Sold')"
      ]
     },
     "execution_count": 7,
     "metadata": {},
     "output_type": "execute_result"
    },
    {
     "data": {
      "image/png": "[encoded data removed]",
      "text/plain": [
       "<Figure size 432x288 with 1 Axes>"
      ]
     },
     "metadata": {
      "needs_background": "light"
     },
     "output_type": "display_data"
    }
   ],
   "source": [
    "plt.hist(df['sale_date'], 30)\n",
    "plt.title('Sale Date')\n",
    "plt.xlabel('Year')\n",
    "plt.ylabel('Sold')"
   ]
  },
  {
   "cell_type": "code",
   "execution_count": 8,
   "metadata": {},
   "outputs": [
    {
     "data": {
      "text/plain": [
       "Text(0, 0.5, 'Sold')"
      ]
     },
     "execution_count": 8,
     "metadata": {},
     "output_type": "execute_result"
    },
    {
     "data": {
      "image/png": "[encoded data removed]",
      "text/plain": [
       "<Figure size 432x288 with 1 Axes>"
      ]
     },
     "metadata": {
      "needs_background": "light"
     },
     "output_type": "display_data"
    }
   ],
   "source": [
    "plt.hist(df['sale_price'], 30, range=[20000, 2000000])\n",
    "plt.title('Sale Price')\n",
    "plt.xlabel('Price')\n",
    "plt.ylabel('Sold')"
   ]
  },
  {
   "cell_type": "code",
   "execution_count": 9,
   "metadata": {},
   "outputs": [
    {
     "data": {
      "text/plain": [
       "Text(0, 0.5, 'Houses')"
      ]
     },
     "execution_count": 9,
     "metadata": {},
     "output_type": "execute_result"
    },
    {
     "data": {
      "image/png": "[encoded data removed]",
      "text/plain": [
       "<Figure size 432x288 with 1 Axes>"
      ]
     },
     "metadata": {
      "needs_background": "light"
     },
     "output_type": "display_data"
    }
   ],
   "source": [
    "plt.hist(df['square_feet_total_living'], 30)\n",
    "plt.title('Livable Square Footage')\n",
    "plt.xlabel('Sq Ft')\n",
    "plt.ylabel('Houses')"
   ]
  },
  {
   "cell_type": "code",
   "execution_count": 10,
   "metadata": {},
   "outputs": [
    {
     "data": {
      "text/plain": [
       "Text(0, 0.5, 'houses')"
      ]
     },
     "execution_count": 10,
     "metadata": {},
     "output_type": "execute_result"
    },
    {
     "data": {
      "image/png": "[encoded data removed]",
      "text/plain": [
       "<Figure size 432x288 with 1 Axes>"
      ]
     },
     "metadata": {
      "needs_background": "light"
     },
     "output_type": "display_data"
    }
   ],
   "source": [
    "plt.hist(df['sq_ft_lot'], 10,  range=[4000, 50000])\n",
    "plt.title('Lot Square Footage')\n",
    "plt.xlabel('Lot SqFt')\n",
    "plt.ylabel('houses')"
   ]
  },
  {
   "cell_type": "code",
   "execution_count": 11,
   "metadata": {},
   "outputs": [
    {
     "data": {
      "text/plain": [
       "Text(0, 0.5, 'Houses')"
      ]
     },
     "execution_count": 11,
     "metadata": {},
     "output_type": "execute_result"
    },
    {
     "data": {
      "image/png": "[encoded data removed]",
      "text/plain": [
       "<Figure size 432x288 with 1 Axes>"
      ]
     },
     "metadata": {
      "needs_background": "light"
     },
     "output_type": "display_data"
    }
   ],
   "source": [
    "plt.hist(df['year_built'], 30)\n",
    "plt.title('Year Built')\n",
    "plt.xlabel('Year')\n",
    "plt.ylabel('Houses')"
   ]
  },
  {
   "cell_type": "code",
   "execution_count": 12,
   "metadata": {},
   "outputs": [
    {
     "data": {
      "text/plain": [
       "Timestamp('2011-07-28 15:07:32.483478272')"
      ]
     },
     "execution_count": 12,
     "metadata": {},
     "output_type": "execute_result"
    }
   ],
   "source": [
    "np.mean(df.sale_date)"
   ]
  },
  {
   "cell_type": "code",
   "execution_count": 13,
   "metadata": {},
   "outputs": [
    {
     "data": {
      "text/plain": [
       "Timestamp('2008-07-01 00:00:00')"
      ]
     },
     "execution_count": 13,
     "metadata": {},
     "output_type": "execute_result"
    }
   ],
   "source": [
    "st.mode(df.sale_date)"
   ]
  },
  {
   "cell_type": "code",
   "execution_count": 14,
   "metadata": {},
   "outputs": [
    {
     "data": {
      "text/plain": [
       "660737.7496307812"
      ]
     },
     "execution_count": 14,
     "metadata": {},
     "output_type": "execute_result"
    }
   ],
   "source": [
    "np.mean(df.sale_price)"
   ]
  },
  {
   "cell_type": "code",
   "execution_count": 15,
   "metadata": {},
   "outputs": [
    {
     "data": {
      "text/plain": [
       "550000"
      ]
     },
     "execution_count": 15,
     "metadata": {},
     "output_type": "execute_result"
    }
   ],
   "source": [
    "st.mode(df.sale_price)"
   ]
  },
  {
   "cell_type": "code",
   "execution_count": 16,
   "metadata": {},
   "outputs": [
    {
     "data": {
      "text/plain": [
       "2539.5061795569372"
      ]
     },
     "execution_count": 16,
     "metadata": {},
     "output_type": "execute_result"
    }
   ],
   "source": [
    "np.mean(df.square_feet_total_living)"
   ]
  },
  {
   "cell_type": "code",
   "execution_count": 17,
   "metadata": {},
   "outputs": [
    {
     "data": {
      "text/plain": [
       "1510"
      ]
     },
     "execution_count": 17,
     "metadata": {},
     "output_type": "execute_result"
    }
   ],
   "source": [
    "st.mode(df.square_feet_total_living)"
   ]
  },
  {
   "cell_type": "code",
   "execution_count": 18,
   "metadata": {},
   "outputs": [
    {
     "data": {
      "text/plain": [
       "22228.568208317138"
      ]
     },
     "execution_count": 18,
     "metadata": {},
     "output_type": "execute_result"
    }
   ],
   "source": [
    "np.mean(df.sq_ft_lot)"
   ]
  },
  {
   "cell_type": "code",
   "execution_count": 19,
   "metadata": {},
   "outputs": [
    {
     "data": {
      "text/plain": [
       "8400"
      ]
     },
     "execution_count": 19,
     "metadata": {},
     "output_type": "execute_result"
    }
   ],
   "source": [
    "st.mode(df.sq_ft_lot)"
   ]
  },
  {
   "cell_type": "code",
   "execution_count": 20,
   "metadata": {},
   "outputs": [
    {
     "data": {
      "text/plain": [
       "1993.002642829382"
      ]
     },
     "execution_count": 20,
     "metadata": {},
     "output_type": "execute_result"
    }
   ],
   "source": [
    "np.mean(df.year_built)"
   ]
  },
  {
   "cell_type": "code",
   "execution_count": 21,
   "metadata": {},
   "outputs": [
    {
     "data": {
      "text/plain": [
       "2007"
      ]
     },
     "execution_count": 21,
     "metadata": {},
     "output_type": "execute_result"
    }
   ],
   "source": [
    "st.mode(df.year_built)"
   ]
  },
  {
   "cell_type": "code",
   "execution_count": 22,
   "metadata": {},
   "outputs": [],
   "source": [
    "bath_full_pmf = thinkstats2.Pmf(df.bath_full_count, label=\"full\")\n",
    "bath_3qtr_pmf = thinkstats2.Pmf(df.bath_3qtr_count, label=\"3qtr\")"
   ]
  },
  {
   "cell_type": "code",
   "execution_count": 23,
   "metadata": {},
   "outputs": [
    {
     "data": {
      "image/png": "[encoded data removed]",
      "text/plain": [
       "<Figure size 432x288 with 1 Axes>"
      ]
     },
     "metadata": {
      "needs_background": "light"
     },
     "output_type": "display_data"
    }
   ],
   "source": [
    "thinkplot.Pmfs([bath_full_pmf, bath_3qtr_pmf])\n",
    "thinkplot.Config(xlabel=\"Bathrooms\", ylabel=\"PMF\")"
   ]
  },
  {
   "cell_type": "code",
   "execution_count": 24,
   "metadata": {},
   "outputs": [
    {
     "data": {
      "image/png": "[encoded data removed]",
      "text/plain": [
       "<Figure size 432x288 with 1 Axes>"
      ]
     },
     "metadata": {
      "needs_background": "light"
     },
     "output_type": "display_data"
    }
   ],
   "source": [
    "thinkplot.Hist(bath_full_pmf, align=\"right\", width=0.45)\n",
    "thinkplot.Hist(bath_3qtr_pmf, align=\"left\", width=0.45)\n",
    "thinkplot.Config(xlabel=\"Bathrooms\", ylabel=\"PMF\")"
   ]
  },
  {
   "cell_type": "code",
   "execution_count": 25,
   "metadata": {},
   "outputs": [
    {
     "data": {
      "image/png": "[encoded data removed]",
      "text/plain": [
       "<Figure size 432x288 with 1 Axes>"
      ]
     },
     "metadata": {
      "needs_background": "light"
     },
     "output_type": "display_data"
    }
   ],
   "source": [
    "bath_full_cdf = thinkstats2.Cdf(df.bath_full_count, label=\"full\")\n",
    "bath_3qtr_cdf = thinkstats2.Cdf(df.bath_3qtr_count, label=\"3qtr\")\n",
    "\n",
    "thinkplot.PrePlot(2)\n",
    "thinkplot.Cdfs([bath_full_cdf, bath_3qtr_cdf])\n",
    "thinkplot.Config(xlabel='Bathrooms', ylabel='CDF')\n"
   ]
  },
  {
   "cell_type": "code",
   "execution_count": 26,
   "metadata": {},
   "outputs": [
    {
     "data": {
      "image/png": "[encoded data removed]",
      "text/plain": [
       "<Figure size 432x288 with 1 Axes>"
      ]
     },
     "metadata": {
      "needs_background": "light"
     },
     "output_type": "display_data"
    }
   ],
   "source": [
    "thinkplot.PrePlot(3)\n",
    "for lam in [2.0, 1, 0.5]:\n",
    "    xs, ps = thinkstats2.RenderExpoCdf(lam, 0, 3.0, 50)\n",
    "    label = r\"$\\lambda=%g$\" % lam\n",
    "    thinkplot.Plot(xs, ps, label=label)\n",
    "\n",
    "thinkplot.Config(title=\"Exponential CDF\", xlabel=\"x\", ylabel=\"CDF\", loc=\"lower right\")"
   ]
  },
  {
   "cell_type": "code",
   "execution_count": 27,
   "metadata": {},
   "outputs": [
    {
     "data": {
      "image/png": "[encoded data removed]",
      "text/plain": [
       "<Figure size 432x288 with 1 Axes>"
      ]
     },
     "metadata": {
      "needs_background": "light"
     },
     "output_type": "display_data"
    }
   ],
   "source": [
    "diffs = df.year_built.diff()\n",
    "cdf = thinkstats2.Cdf(diffs, label=\"actual\")\n",
    "\n",
    "thinkplot.Cdf(cdf)\n",
    "thinkplot.Config(xlabel=\"Time between builds (years)\", ylabel=\"CDF\")"
   ]
  },
  {
   "cell_type": "code",
   "execution_count": 28,
   "metadata": {},
   "outputs": [
    {
     "data": {
      "image/png": "[encoded data removed]",
      "text/plain": [
       "<Figure size 432x288 with 1 Axes>"
      ]
     },
     "metadata": {
      "needs_background": "light"
     },
     "output_type": "display_data"
    }
   ],
   "source": [
    "thinkplot.Cdf(cdf, complement=True)\n",
    "thinkplot.Config(\n",
    "    xlabel=\"Time between builds (years)\",\n",
    "    ylabel=\"CCDF\",\n",
    "    yscale=\"log\",\n",
    "    loc=\"upper right\",\n",
    ")"
   ]
  },
  {
   "cell_type": "code",
   "execution_count": 29,
   "metadata": {
    "scrolled": true
   },
   "outputs": [
    {
     "data": {
      "image/png": "[encoded data removed]",
      "text/plain": [
       "<Figure size 432x288 with 1 Axes>"
      ]
     },
     "metadata": {
      "needs_background": "light"
     },
     "output_type": "display_data"
    }
   ],
   "source": [
    "thinkplot.Scatter(df.sale_price, df.square_feet_total_living, alpha=1)\n",
    "thinkplot.Config(xlabel='Price',\n",
    "                 ylabel='SqFt Living',\n",
    "                 legend=False)"
   ]
  },
  {
   "cell_type": "code",
   "execution_count": 30,
   "metadata": {
    "scrolled": true
   },
   "outputs": [
    {
     "data": {
      "image/png": "[encoded data removed]",
      "text/plain": [
       "<Figure size 432x288 with 1 Axes>"
      ]
     },
     "metadata": {
      "needs_background": "light"
     },
     "output_type": "display_data"
    }
   ],
   "source": [
    "thinkplot.Scatter(df.sale_price,df.sq_ft_lot, alpha=1)\n",
    "thinkplot.Config(xlabel='Price',\n",
    "                 ylabel='SqFt Lot',\n",
    "                 legend=False)"
   ]
  },
  {
   "cell_type": "code",
   "execution_count": 31,
   "metadata": {},
   "outputs": [],
   "source": [
    "def Cov(xs, ys, meanx=None, meany=None):\n",
    "    xs = np.asarray(xs)\n",
    "    ys = np.asarray(ys)\n",
    "\n",
    "    if meanx is None:\n",
    "        meanx = np.mean(xs)\n",
    "    if meany is None:\n",
    "        meany = np.mean(ys)\n",
    "\n",
    "    cov = np.dot(xs-meanx, ys-meany) / len(xs)\n",
    "    return cov"
   ]
  },
  {
   "cell_type": "code",
   "execution_count": 32,
   "metadata": {},
   "outputs": [],
   "source": [
    "def Corr(xs, ys):\n",
    "    xs = np.asarray(xs)\n",
    "    ys = np.asarray(ys)\n",
    "\n",
    "    meanx, varx = thinkstats2.MeanVar(xs)\n",
    "    meany, vary = thinkstats2.MeanVar(ys)\n",
    "\n",
    "    corr = Cov(xs, ys, meanx, meany) / np.sqrt(varx * vary)\n",
    "    return corr"
   ]
  },
  {
   "cell_type": "code",
   "execution_count": 33,
   "metadata": {},
   "outputs": [],
   "source": [
    "def SpearmanCorr(xs, ys):\n",
    "    xranks = pd.Series(xs).rank()\n",
    "    yranks = pd.Series(ys).rank()\n",
    "    return Corr(xranks, yranks)"
   ]
  },
  {
   "cell_type": "code",
   "execution_count": 34,
   "metadata": {},
   "outputs": [
    {
     "name": "stdout",
     "output_type": "stream",
     "text": [
      "Cov 181940672.45988375\n",
      "Corr 0.4545875847238298\n",
      "SpearmanCorr 0.7068785053389812\n"
     ]
    }
   ],
   "source": [
    "price = df.sale_price\n",
    "sqft = df.square_feet_total_living\n",
    "print('Cov', Cov(price, sqft))\n",
    "print('Corr', Corr(price, sqft))\n",
    "print('SpearmanCorr', SpearmanCorr(price, sqft))"
   ]
  },
  {
   "cell_type": "code",
   "execution_count": 35,
   "metadata": {},
   "outputs": [
    {
     "name": "stdout",
     "output_type": "stream",
     "text": [
      "Cov 2758192213.5516663\n",
      "Corr 0.11981223395960489\n",
      "SpearmanCorr 0.1610402439997107\n"
     ]
    }
   ],
   "source": [
    "price = df.sale_price\n",
    "sqft_lot = df.sq_ft_lot\n",
    "print('Cov', Cov(price, sqft_lot))\n",
    "print('Corr', Corr(price, sqft_lot))\n",
    "print('SpearmanCorr', SpearmanCorr(price, sqft_lot))"
   ]
  },
  {
   "cell_type": "code",
   "execution_count": 36,
   "metadata": {},
   "outputs": [],
   "source": [
    "class DiffMeansPermute(thinkstats2.HypothesisTest):\n",
    "\n",
    "    def TestStatistic(self, data):\n",
    "        group1, group2 = data\n",
    "        test_stat = abs(group1.mean() - group2.mean())\n",
    "        return test_stat\n",
    "\n",
    "    def MakeModel(self):\n",
    "        group1, group2 = self.data\n",
    "        self.n, self.m = len(group1), len(group2)\n",
    "        self.pool = np.hstack((group1, group2))\n",
    "\n",
    "    def RunModel(self):\n",
    "        np.random.shuffle(self.pool)\n",
    "        data = self.pool[:self.n], self.pool[self.n:]\n",
    "        return data"
   ]
  },
  {
   "cell_type": "code",
   "execution_count": 37,
   "metadata": {},
   "outputs": [],
   "source": [
    "year=[\"2008\"]\n",
    "\n",
    "df_2008=df[df['year_built'].isin(year)]"
   ]
  },
  {
   "cell_type": "code",
   "execution_count": 38,
   "metadata": {},
   "outputs": [],
   "source": [
    "year=[\"2012\"]\n",
    "\n",
    "df_2012=df[df['year_built'].isin(year)]"
   ]
  },
  {
   "cell_type": "code",
   "execution_count": 39,
   "metadata": {},
   "outputs": [
    {
     "data": {
      "text/plain": [
       "0.307"
      ]
     },
     "execution_count": 39,
     "metadata": {},
     "output_type": "execute_result"
    }
   ],
   "source": [
    "data = df_2008.sale_price, df_2012.sale_price\n",
    "ht = DiffMeansPermute(data)\n",
    "pvalue = ht.PValue()\n",
    "pvalue"
   ]
  },
  {
   "cell_type": "code",
   "execution_count": 40,
   "metadata": {},
   "outputs": [
    {
     "data": {
      "image/png": "[encoded data removed]",
      "text/plain": [
       "<Figure size 432x288 with 1 Axes>"
      ]
     },
     "metadata": {
      "needs_background": "light"
     },
     "output_type": "display_data"
    }
   ],
   "source": [
    "ht.PlotCdf()\n",
    "thinkplot.Config(xlabel='test statistic',\n",
    "                   ylabel='CDF')"
   ]
  },
  {
   "cell_type": "code",
   "execution_count": 41,
   "metadata": {},
   "outputs": [],
   "source": [
    "class DiffMeansOneSided(DiffMeansPermute):\n",
    "\n",
    "    def TestStatistic(self, data):\n",
    "        group1, group2 = data\n",
    "        test_stat = group1.mean() - group2.mean()\n",
    "        return test_stat"
   ]
  },
  {
   "cell_type": "code",
   "execution_count": 42,
   "metadata": {},
   "outputs": [
    {
     "data": {
      "text/plain": [
       "0.843"
      ]
     },
     "execution_count": 42,
     "metadata": {},
     "output_type": "execute_result"
    }
   ],
   "source": [
    "ht = DiffMeansOneSided(data)\n",
    "pvalue = ht.PValue()\n",
    "pvalue"
   ]
  },
  {
   "cell_type": "code",
   "execution_count": 43,
   "metadata": {},
   "outputs": [
    {
     "data": {
      "text/html": [
       "<table class=\"simpletable\">\n",
       "<caption>OLS Regression Results</caption>\n",
       "<tr>\n",
       "  <th>Dep. Variable:</th>       <td>sale_price</td>    <th>  R-squared:         </th>  <td>   0.207</td>  \n",
       "</tr>\n",
       "<tr>\n",
       "  <th>Model:</th>                   <td>OLS</td>       <th>  Adj. R-squared:    </th>  <td>   0.207</td>  \n",
       "</tr>\n",
       "<tr>\n",
       "  <th>Method:</th>             <td>Least Squares</td>  <th>  F-statistic:       </th>  <td>   3351.</td>  \n",
       "</tr>\n",
       "<tr>\n",
       "  <th>Date:</th>             <td>Fri, 17 Nov 2023</td> <th>  Prob (F-statistic):</th>   <td>  0.00</td>   \n",
       "</tr>\n",
       "<tr>\n",
       "  <th>Time:</th>                 <td>20:45:58</td>     <th>  Log-Likelihood:    </th> <td>-1.8285e+05</td>\n",
       "</tr>\n",
       "<tr>\n",
       "  <th>No. Observations:</th>      <td> 12865</td>      <th>  AIC:               </th>  <td>3.657e+05</td> \n",
       "</tr>\n",
       "<tr>\n",
       "  <th>Df Residuals:</th>          <td> 12863</td>      <th>  BIC:               </th>  <td>3.657e+05</td> \n",
       "</tr>\n",
       "<tr>\n",
       "  <th>Df Model:</th>              <td>     1</td>      <th>                     </th>      <td> </td>     \n",
       "</tr>\n",
       "<tr>\n",
       "  <th>Covariance Type:</th>      <td>nonrobust</td>    <th>                     </th>      <td> </td>     \n",
       "</tr>\n",
       "</table>\n",
       "<table class=\"simpletable\">\n",
       "<tr>\n",
       "              <td></td>                <th>coef</th>     <th>std err</th>      <th>t</th>      <th>P>|t|</th>  <th>[0.025</th>    <th>0.975]</th>  \n",
       "</tr>\n",
       "<tr>\n",
       "  <th>Intercept</th>                <td> 1.891e+05</td> <td> 8744.903</td> <td>   21.625</td> <td> 0.000</td> <td> 1.72e+05</td> <td> 2.06e+05</td>\n",
       "</tr>\n",
       "<tr>\n",
       "  <th>square_feet_total_living</th> <td>  185.7177</td> <td>    3.208</td> <td>   57.884</td> <td> 0.000</td> <td>  179.429</td> <td>  192.007</td>\n",
       "</tr>\n",
       "</table>\n",
       "<table class=\"simpletable\">\n",
       "<tr>\n",
       "  <th>Omnibus:</th>       <td>14186.450</td> <th>  Durbin-Watson:     </th>  <td>   0.543</td>  \n",
       "</tr>\n",
       "<tr>\n",
       "  <th>Prob(Omnibus):</th>  <td> 0.000</td>   <th>  Jarque-Bera (JB):  </th> <td>1170497.485</td>\n",
       "</tr>\n",
       "<tr>\n",
       "  <th>Skew:</th>           <td> 5.725</td>   <th>  Prob(JB):          </th>  <td>    0.00</td>  \n",
       "</tr>\n",
       "<tr>\n",
       "  <th>Kurtosis:</th>       <td>48.305</td>   <th>  Cond. No.          </th>  <td>7.51e+03</td>  \n",
       "</tr>\n",
       "</table><br/><br/>Notes:<br/>[1] Standard Errors assume that the covariance matrix of the errors is correctly specified.<br/>[2] The condition number is large, 7.51e+03. This might indicate that there are<br/>strong multicollinearity or other numerical problems."
      ],
      "text/plain": [
       "<class 'statsmodels.iolib.summary.Summary'>\n",
       "\"\"\"\n",
       "                            OLS Regression Results                            \n",
       "==============================================================================\n",
       "Dep. Variable:             sale_price   R-squared:                       0.207\n",
       "Model:                            OLS   Adj. R-squared:                  0.207\n",
       "Method:                 Least Squares   F-statistic:                     3351.\n",
       "Date:                Fri, 17 Nov 2023   Prob (F-statistic):               0.00\n",
       "Time:                        20:45:58   Log-Likelihood:            -1.8285e+05\n",
       "No. Observations:               12865   AIC:                         3.657e+05\n",
       "Df Residuals:                   12863   BIC:                         3.657e+05\n",
       "Df Model:                           1                                         \n",
       "Covariance Type:            nonrobust                                         \n",
       "============================================================================================\n",
       "                               coef    std err          t      P>|t|      [0.025      0.975]\n",
       "--------------------------------------------------------------------------------------------\n",
       "Intercept                 1.891e+05   8744.903     21.625      0.000    1.72e+05    2.06e+05\n",
       "square_feet_total_living   185.7177      3.208     57.884      0.000     179.429     192.007\n",
       "==============================================================================\n",
       "Omnibus:                    14186.450   Durbin-Watson:                   0.543\n",
       "Prob(Omnibus):                  0.000   Jarque-Bera (JB):          1170497.485\n",
       "Skew:                           5.725   Prob(JB):                         0.00\n",
       "Kurtosis:                      48.305   Cond. No.                     7.51e+03\n",
       "==============================================================================\n",
       "\n",
       "Notes:\n",
       "[1] Standard Errors assume that the covariance matrix of the errors is correctly specified.\n",
       "[2] The condition number is large, 7.51e+03. This might indicate that there are\n",
       "strong multicollinearity or other numerical problems.\n",
       "\"\"\""
      ]
     },
     "execution_count": 43,
     "metadata": {},
     "output_type": "execute_result"
    }
   ],
   "source": [
    "import statsmodels.formula.api as smf\n",
    "\n",
    "formula = 'sale_price ~ square_feet_total_living'\n",
    "model = smf.ols(formula, data=df)\n",
    "results = model.fit()\n",
    "results.summary()"
   ]
  },
  {
   "cell_type": "code",
   "execution_count": 44,
   "metadata": {},
   "outputs": [
    {
     "data": {
      "text/plain": [
       "(189106.55899323913, 185.71767788327497)"
      ]
     },
     "execution_count": 44,
     "metadata": {},
     "output_type": "execute_result"
    }
   ],
   "source": [
    "inter = results.params['Intercept']\n",
    "slope = results.params['square_feet_total_living']\n",
    "inter, slope"
   ]
  },
  {
   "cell_type": "code",
   "execution_count": 45,
   "metadata": {},
   "outputs": [
    {
     "data": {
      "text/plain": [
       "0.0"
      ]
     },
     "execution_count": 45,
     "metadata": {},
     "output_type": "execute_result"
    }
   ],
   "source": [
    "slope_pvalue = results.pvalues['square_feet_total_living']\n",
    "slope_pvalue"
   ]
  },
  {
   "cell_type": "code",
   "execution_count": 46,
   "metadata": {},
   "outputs": [
    {
     "data": {
      "text/plain": [
       "0.20664987218504483"
      ]
     },
     "execution_count": 46,
     "metadata": {},
     "output_type": "execute_result"
    }
   ],
   "source": [
    "results.rsquared"
   ]
  },
  {
   "cell_type": "code",
   "execution_count": 47,
   "metadata": {},
   "outputs": [
    {
     "data": {
      "text/html": [
       "<table class=\"simpletable\">\n",
       "<caption>OLS Regression Results</caption>\n",
       "<tr>\n",
       "  <th>Dep. Variable:</th>       <td>sale_price</td>    <th>  R-squared:         </th>  <td>   0.218</td>  \n",
       "</tr>\n",
       "<tr>\n",
       "  <th>Model:</th>                   <td>OLS</td>       <th>  Adj. R-squared:    </th>  <td>   0.218</td>  \n",
       "</tr>\n",
       "<tr>\n",
       "  <th>Method:</th>             <td>Least Squares</td>  <th>  F-statistic:       </th>  <td>   1797.</td>  \n",
       "</tr>\n",
       "<tr>\n",
       "  <th>Date:</th>             <td>Fri, 17 Nov 2023</td> <th>  Prob (F-statistic):</th>   <td>  0.00</td>   \n",
       "</tr>\n",
       "<tr>\n",
       "  <th>Time:</th>                 <td>20:45:58</td>     <th>  Log-Likelihood:    </th> <td>-1.8276e+05</td>\n",
       "</tr>\n",
       "<tr>\n",
       "  <th>No. Observations:</th>      <td> 12865</td>      <th>  AIC:               </th>  <td>3.655e+05</td> \n",
       "</tr>\n",
       "<tr>\n",
       "  <th>Df Residuals:</th>          <td> 12862</td>      <th>  BIC:               </th>  <td>3.655e+05</td> \n",
       "</tr>\n",
       "<tr>\n",
       "  <th>Df Model:</th>              <td>     2</td>      <th>                     </th>      <td> </td>     \n",
       "</tr>\n",
       "<tr>\n",
       "  <th>Covariance Type:</th>      <td>nonrobust</td>    <th>                     </th>      <td> </td>     \n",
       "</tr>\n",
       "</table>\n",
       "<table class=\"simpletable\">\n",
       "<tr>\n",
       "              <td></td>                <th>coef</th>     <th>std err</th>      <th>t</th>      <th>P>|t|</th>  <th>[0.025</th>    <th>0.975]</th>  \n",
       "</tr>\n",
       "<tr>\n",
       "  <th>Intercept</th>                <td>-5.114e+06</td> <td> 3.81e+05</td> <td>  -13.431</td> <td> 0.000</td> <td>-5.86e+06</td> <td>-4.37e+06</td>\n",
       "</tr>\n",
       "<tr>\n",
       "  <th>square_feet_total_living</th> <td>  171.4355</td> <td>    3.346</td> <td>   51.242</td> <td> 0.000</td> <td>  164.878</td> <td>  177.993</td>\n",
       "</tr>\n",
       "<tr>\n",
       "  <th>year_built</th>               <td> 2679.0713</td> <td>  192.305</td> <td>   13.931</td> <td> 0.000</td> <td> 2302.125</td> <td> 3056.018</td>\n",
       "</tr>\n",
       "</table>\n",
       "<table class=\"simpletable\">\n",
       "<tr>\n",
       "  <th>Omnibus:</th>       <td>14056.978</td> <th>  Durbin-Watson:     </th>  <td>   0.561</td>  \n",
       "</tr>\n",
       "<tr>\n",
       "  <th>Prob(Omnibus):</th>  <td> 0.000</td>   <th>  Jarque-Bera (JB):  </th> <td>1120937.659</td>\n",
       "</tr>\n",
       "<tr>\n",
       "  <th>Skew:</th>           <td> 5.646</td>   <th>  Prob(JB):          </th>  <td>    0.00</td>  \n",
       "</tr>\n",
       "<tr>\n",
       "  <th>Kurtosis:</th>       <td>47.313</td>   <th>  Cond. No.          </th>  <td>4.02e+05</td>  \n",
       "</tr>\n",
       "</table><br/><br/>Notes:<br/>[1] Standard Errors assume that the covariance matrix of the errors is correctly specified.<br/>[2] The condition number is large, 4.02e+05. This might indicate that there are<br/>strong multicollinearity or other numerical problems."
      ],
      "text/plain": [
       "<class 'statsmodels.iolib.summary.Summary'>\n",
       "\"\"\"\n",
       "                            OLS Regression Results                            \n",
       "==============================================================================\n",
       "Dep. Variable:             sale_price   R-squared:                       0.218\n",
       "Model:                            OLS   Adj. R-squared:                  0.218\n",
       "Method:                 Least Squares   F-statistic:                     1797.\n",
       "Date:                Fri, 17 Nov 2023   Prob (F-statistic):               0.00\n",
       "Time:                        20:45:58   Log-Likelihood:            -1.8276e+05\n",
       "No. Observations:               12865   AIC:                         3.655e+05\n",
       "Df Residuals:                   12862   BIC:                         3.655e+05\n",
       "Df Model:                           2                                         \n",
       "Covariance Type:            nonrobust                                         \n",
       "============================================================================================\n",
       "                               coef    std err          t      P>|t|      [0.025      0.975]\n",
       "--------------------------------------------------------------------------------------------\n",
       "Intercept                -5.114e+06   3.81e+05    -13.431      0.000   -5.86e+06   -4.37e+06\n",
       "square_feet_total_living   171.4355      3.346     51.242      0.000     164.878     177.993\n",
       "year_built                2679.0713    192.305     13.931      0.000    2302.125    3056.018\n",
       "==============================================================================\n",
       "Omnibus:                    14056.978   Durbin-Watson:                   0.561\n",
       "Prob(Omnibus):                  0.000   Jarque-Bera (JB):          1120937.659\n",
       "Skew:                           5.646   Prob(JB):                         0.00\n",
       "Kurtosis:                      47.313   Cond. No.                     4.02e+05\n",
       "==============================================================================\n",
       "\n",
       "Notes:\n",
       "[1] Standard Errors assume that the covariance matrix of the errors is correctly specified.\n",
       "[2] The condition number is large, 4.02e+05. This might indicate that there are\n",
       "strong multicollinearity or other numerical problems.\n",
       "\"\"\""
      ]
     },
     "execution_count": 47,
     "metadata": {},
     "output_type": "execute_result"
    }
   ],
   "source": [
    "formula = 'sale_price ~ square_feet_total_living + year_built'\n",
    "model = smf.ols(formula, data=df)\n",
    "results = model.fit()\n",
    "results.summary()"
   ]
  },
  {
   "cell_type": "code",
   "execution_count": 48,
   "metadata": {},
   "outputs": [
    {
     "data": {
      "text/html": [
       "<table class=\"simpletable\">\n",
       "<caption>OLS Regression Results</caption>\n",
       "<tr>\n",
       "  <th>Dep. Variable:</th>       <td>sale_price</td>    <th>  R-squared:         </th>  <td>   0.219</td>  \n",
       "</tr>\n",
       "<tr>\n",
       "  <th>Model:</th>                   <td>OLS</td>       <th>  Adj. R-squared:    </th>  <td>   0.219</td>  \n",
       "</tr>\n",
       "<tr>\n",
       "  <th>Method:</th>             <td>Least Squares</td>  <th>  F-statistic:       </th>  <td>   1202.</td>  \n",
       "</tr>\n",
       "<tr>\n",
       "  <th>Date:</th>             <td>Fri, 17 Nov 2023</td> <th>  Prob (F-statistic):</th>   <td>  0.00</td>   \n",
       "</tr>\n",
       "<tr>\n",
       "  <th>Time:</th>                 <td>20:45:58</td>     <th>  Log-Likelihood:    </th> <td>-1.8275e+05</td>\n",
       "</tr>\n",
       "<tr>\n",
       "  <th>No. Observations:</th>      <td> 12865</td>      <th>  AIC:               </th>  <td>3.655e+05</td> \n",
       "</tr>\n",
       "<tr>\n",
       "  <th>Df Residuals:</th>          <td> 12861</td>      <th>  BIC:               </th>  <td>3.655e+05</td> \n",
       "</tr>\n",
       "<tr>\n",
       "  <th>Df Model:</th>              <td>     3</td>      <th>                     </th>      <td> </td>     \n",
       "</tr>\n",
       "<tr>\n",
       "  <th>Covariance Type:</th>      <td>nonrobust</td>    <th>                     </th>      <td> </td>     \n",
       "</tr>\n",
       "</table>\n",
       "<table class=\"simpletable\">\n",
       "<tr>\n",
       "              <td></td>                <th>coef</th>     <th>std err</th>      <th>t</th>      <th>P>|t|</th>  <th>[0.025</th>    <th>0.975]</th>  \n",
       "</tr>\n",
       "<tr>\n",
       "  <th>Intercept</th>                <td>-4.858e+06</td> <td> 3.92e+05</td> <td>  -12.407</td> <td> 0.000</td> <td>-5.63e+06</td> <td>-4.09e+06</td>\n",
       "</tr>\n",
       "<tr>\n",
       "  <th>square_feet_total_living</th> <td>  178.4423</td> <td>    4.183</td> <td>   42.662</td> <td> 0.000</td> <td>  170.244</td> <td>  186.641</td>\n",
       "</tr>\n",
       "<tr>\n",
       "  <th>year_built</th>               <td> 2563.6019</td> <td>  196.659</td> <td>   13.036</td> <td> 0.000</td> <td> 2178.121</td> <td> 2949.083</td>\n",
       "</tr>\n",
       "<tr>\n",
       "  <th>bedrooms</th>                 <td>-1.255e+04</td> <td> 4498.504</td> <td>   -2.790</td> <td> 0.005</td> <td>-2.14e+04</td> <td>-3732.184</td>\n",
       "</tr>\n",
       "</table>\n",
       "<table class=\"simpletable\">\n",
       "<tr>\n",
       "  <th>Omnibus:</th>       <td>14073.425</td> <th>  Durbin-Watson:     </th>  <td>   0.558</td>  \n",
       "</tr>\n",
       "<tr>\n",
       "  <th>Prob(Omnibus):</th>  <td> 0.000</td>   <th>  Jarque-Bera (JB):  </th> <td>1131577.533</td>\n",
       "</tr>\n",
       "<tr>\n",
       "  <th>Skew:</th>           <td> 5.654</td>   <th>  Prob(JB):          </th>  <td>    0.00</td>  \n",
       "</tr>\n",
       "<tr>\n",
       "  <th>Kurtosis:</th>       <td>47.532</td>   <th>  Cond. No.          </th>  <td>4.13e+05</td>  \n",
       "</tr>\n",
       "</table><br/><br/>Notes:<br/>[1] Standard Errors assume that the covariance matrix of the errors is correctly specified.<br/>[2] The condition number is large, 4.13e+05. This might indicate that there are<br/>strong multicollinearity or other numerical problems."
      ],
      "text/plain": [
       "<class 'statsmodels.iolib.summary.Summary'>\n",
       "\"\"\"\n",
       "                            OLS Regression Results                            \n",
       "==============================================================================\n",
       "Dep. Variable:             sale_price   R-squared:                       0.219\n",
       "Model:                            OLS   Adj. R-squared:                  0.219\n",
       "Method:                 Least Squares   F-statistic:                     1202.\n",
       "Date:                Fri, 17 Nov 2023   Prob (F-statistic):               0.00\n",
       "Time:                        20:45:58   Log-Likelihood:            -1.8275e+05\n",
       "No. Observations:               12865   AIC:                         3.655e+05\n",
       "Df Residuals:                   12861   BIC:                         3.655e+05\n",
       "Df Model:                           3                                         \n",
       "Covariance Type:            nonrobust                                         \n",
       "============================================================================================\n",
       "                               coef    std err          t      P>|t|      [0.025      0.975]\n",
       "--------------------------------------------------------------------------------------------\n",
       "Intercept                -4.858e+06   3.92e+05    -12.407      0.000   -5.63e+06   -4.09e+06\n",
       "square_feet_total_living   178.4423      4.183     42.662      0.000     170.244     186.641\n",
       "year_built                2563.6019    196.659     13.036      0.000    2178.121    2949.083\n",
       "bedrooms                 -1.255e+04   4498.504     -2.790      0.005   -2.14e+04   -3732.184\n",
       "==============================================================================\n",
       "Omnibus:                    14073.425   Durbin-Watson:                   0.558\n",
       "Prob(Omnibus):                  0.000   Jarque-Bera (JB):          1131577.533\n",
       "Skew:                           5.654   Prob(JB):                         0.00\n",
       "Kurtosis:                      47.532   Cond. No.                     4.13e+05\n",
       "==============================================================================\n",
       "\n",
       "Notes:\n",
       "[1] Standard Errors assume that the covariance matrix of the errors is correctly specified.\n",
       "[2] The condition number is large, 4.13e+05. This might indicate that there are\n",
       "strong multicollinearity or other numerical problems.\n",
       "\"\"\""
      ]
     },
     "execution_count": 48,
     "metadata": {},
     "output_type": "execute_result"
    }
   ],
   "source": [
    "formula = 'sale_price ~ square_feet_total_living + year_built + bedrooms'\n",
    "model = smf.ols(formula, data=df)\n",
    "results = model.fit()\n",
    "results.summary()"
   ]
  },
  {
   "cell_type": "code",
   "execution_count": null,
   "metadata": {},
   "outputs": [],
   "source": []
  }
 ],
 "metadata": {
  "kernelspec": {
   "display_name": "Python 3",
   "language": "python",
   "name": "python3"
  },
  "language_info": {
   "codemirror_mode": {
    "name": "ipython",
    "version": 3
   },
   "file_extension": ".py",
   "mimetype": "text/x-python",
   "name": "python",
   "nbconvert_exporter": "python",
   "pygments_lexer": "ipython3",
   "version": "3.8.5"
  }
 },
 "nbformat": 4,
 "nbformat_minor": 4
}
